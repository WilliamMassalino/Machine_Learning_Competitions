{
 "cells": [
  {
   "cell_type": "markdown",
   "metadata": {},
   "source": [
    "# Loan Prediction"
   ]
  },
  {
   "cell_type": "markdown",
   "metadata": {},
   "source": [
    "This is my project to the ML competition from the site https://www.analyticsvidhya.com/ ."
   ]
  },
  {
   "cell_type": "markdown",
   "metadata": {},
   "source": [
    "Understanding the problem statement is the first and foremost step. This would help you give an intuition of what you will face ahead of time. Let us see the problem statement -\n",
    "\n",
    "**Dream Housing Finance company deals in all home loans. They have presence across all urban, semi urban and rural areas. Customer first apply for home loan after that company validates the customer eligibility for loan. Company wants to automate the loan eligibility process (real time) based on customer detail provided while filling online application form. These details are Gender, Marital Status, Education, Number of Dependents, Income, Loan Amount, Credit History and others. To automate this process, they have given a problem to identify the customers segments, those are eligible for loan amount so that they can specifically target these customers.**\n",
    "\n"
   ]
  },
  {
   "cell_type": "markdown",
   "metadata": {},
   "source": [
    "It is a classification problem where we have to predict whether a loan would be approved or not. In a classification problem, we have to predict discrete values based on a given set of independent variable(s). Classification can be of two types:\n",
    "\n",
    "**Binary Classification :** In this classification we have to predict either of the two given classes. For example: classifying the gender as male or female, predicting the result as win or loss, etc.\n",
    "\n",
    "**Multiclass Classification :** Here we have to classify the data into three or more classes. For example: classifying a movie's genre as comedy, action or romantic, classify fruits as oranges, apples, or pears, etc.\n",
    "\n",
    "Loan prediction is a very common real-life problem that each retail bank faces at least once in its lifetime. If done correctly, it can save a lot of man hours at the end of a retail bank.\n"
   ]
  },
  {
   "cell_type": "markdown",
   "metadata": {},
   "source": [
    "# Hypothesis Generation"
   ]
  },
  {
   "cell_type": "markdown",
   "metadata": {},
   "source": [
    "After looking at the problem statement, we will now move into hypothesis generation. It is the process of listing out all the possible factors that can affect the outcome.\n",
    "\n",
    "## What is hypothesis generation?\n",
    "This is a very important stage in any data science/machine learning pipeline. It involves understanding the problem in detail by brainstorming as many factors as possible which can impact the outcome. It is done by understanding the problem statement thoroughly and before looking at the data.\n",
    "\n",
    "Below are some of the factors which I think can affect the Loan Approval (dependent variable for this loan prediction problem):\n",
    "\n",
    "**Salary:** Applicants with high income should have more chances of loan approval.\n",
    "\n",
    "**Previous history:** Applicants who have repayed their previous debts should have higher chances of loan approval.\n",
    "\n",
    "**Loan amount:** Loan approval should also depend on the loan amount. If the loan amount is less, chances of loan approval should be high.\n",
    "\n",
    "**Loan term:** Loan for less time period and less amount should have higher chances of approval.\n",
    "\n",
    "**EMI:** Lesser the amount to be paid monthly to repay the loan, higher the chances of loan approval.\n",
    "\n",
    "These are some of the factors which i think can affect the target variable, you can come up with many more factors.\n",
    "\n",
    "You can download the dataset from: https://datahack.analyticsvidhya.com/contest/practice-problem-loan-prediction-iii/\n",
    "\n"
   ]
  },
  {
   "cell_type": "markdown",
   "metadata": {},
   "source": [
    "## Loading Packages"
   ]
  },
  {
   "cell_type": "code",
   "execution_count": 1,
   "metadata": {},
   "outputs": [],
   "source": [
    "import pandas as pd\n",
    "import numpy as np                     # For mathematical calculations\n",
    "import seaborn as sns                  # For data visualization\n",
    "import matplotlib.pyplot as plt        # For plotting graphs\n",
    "%matplotlib inline\n",
    "import warnings                        # To ignore any warnings\n",
    "warnings.filterwarnings(\"ignore\")"
   ]
  },
  {
   "cell_type": "markdown",
   "metadata": {},
   "source": [
    "## Data\n",
    "\n",
    "Train file will be used for training the model, i.e. our model will learn from this file. It contains all the independent variables and the target variable.\n",
    "Test file contains all the independent variables, but not the target variable. We will apply the model to predict the target variable for the test data.\n"
   ]
  },
  {
   "cell_type": "markdown",
   "metadata": {},
   "source": [
    "## Reading data"
   ]
  },
  {
   "cell_type": "code",
   "execution_count": 2,
   "metadata": {},
   "outputs": [],
   "source": [
    "train = pd.read_csv('train.csv')\n",
    "test = pd.read_csv('test.csv')"
   ]
  },
  {
   "cell_type": "markdown",
   "metadata": {},
   "source": [
    "The file name should be replaced with the name of the train and test file that you have downloaded from the datahack platform.\n",
    "\n",
    "Let’s make a copy of train and test data so that even if we have to make any changes in these datasets we would not lose the original datasets."
   ]
  },
  {
   "cell_type": "code",
   "execution_count": 3,
   "metadata": {},
   "outputs": [],
   "source": [
    "train_original = train.copy()\n",
    "test_original = test.copy()"
   ]
  },
  {
   "cell_type": "markdown",
   "metadata": {},
   "source": [
    "we will look at the structure of the train and test datasets. Firstly, we will check the features present in our data and then we will look at their data types."
   ]
  },
  {
   "cell_type": "code",
   "execution_count": 4,
   "metadata": {},
   "outputs": [
    {
     "data": {
      "text/plain": [
       "Index(['Loan_ID', 'Gender', 'Married', 'Dependents', 'Education',\n",
       "       'Self_Employed', 'ApplicantIncome', 'CoapplicantIncome', 'LoanAmount',\n",
       "       'Loan_Amount_Term', 'Credit_History', 'Property_Area', 'Loan_Status'],\n",
       "      dtype='object')"
      ]
     },
     "execution_count": 4,
     "metadata": {},
     "output_type": "execute_result"
    }
   ],
   "source": [
    "train.columns"
   ]
  },
  {
   "cell_type": "markdown",
   "metadata": {},
   "source": [
    "We have similar features in the test dataset as the train dataset except the Loan_Status. We will predict the Loan_Status using the model built using the train data.\n",
    "\n",
    "Given below is the description for each variable:"
   ]
  },
  {
   "cell_type": "markdown",
   "metadata": {},
   "source": [
    "<p align=\"justify\">Variable\tDescription\n",
    "Loan_ID\t = Unique Loan ID\n",
    "Gender\t= Male/ Female\n",
    "Married\t= Applicant married (Y/N)\n",
    "Dependents\t= Number of dependents\n",
    "Education\t= Applicant Education (Graduate/Under Graduate)\n",
    "Self_Employed =\tSelf employed (Y/N)\n",
    "ApplicantIncome =\tApplicant income\n",
    "CoapplicantIncome =\tCoapplicant income\n",
    "LoanAmount =\tLoan amount in thousands\n",
    "Loan_Amount_Term =\tTerm of loan in months\n",
    "Credit_History =\tCredit history meets guidelines\n",
    "Property_Area =\tUrban/ Semi Urban/ Rural\n",
    "Loan_Status\t= Loan approved (Y/N)<p align=\"justify\">"
   ]
  },
  {
   "cell_type": "code",
   "execution_count": 13,
   "metadata": {},
   "outputs": [
    {
     "data": {
      "text/plain": [
       "Loan_ID               object\n",
       "Gender                object\n",
       "Married               object\n",
       "Dependents            object\n",
       "Education             object\n",
       "Self_Employed         object\n",
       "ApplicantIncome        int64\n",
       "CoapplicantIncome    float64\n",
       "LoanAmount           float64\n",
       "Loan_Amount_Term     float64\n",
       "Credit_History       float64\n",
       "Property_Area         object\n",
       "Loan_Status           object\n",
       "dtype: object"
      ]
     },
     "execution_count": 13,
     "metadata": {},
     "output_type": "execute_result"
    }
   ],
   "source": [
    "train.dtypes"
   ]
  },
  {
   "cell_type": "markdown",
   "metadata": {},
   "source": [
    "We can see there are three format of data types:\n",
    "\n",
    "**object:** Object format means variables are categorical. Categorical variables in our dataset are: Loan_ID, Gender, Married, Dependents, Education, Self_Employed, Property_Area, Loan_Status.\n",
    "\n",
    "**int64:** It represents the integer variables. ApplicantIncome is in this format.\n",
    "\n",
    "**float64**: It represents the variable which have some decimal values involved. They are also numerical variables. Numerical variables in our dataset are: CoapplicantIncome, LoanAmount, Loan_Amount_Term, and Credit_History.\n",
    "\n",
    "Let’s look at the shape of the dataset."
   ]
  },
  {
   "cell_type": "code",
   "execution_count": 14,
   "metadata": {},
   "outputs": [
    {
     "data": {
      "text/plain": [
       "((614, 13), (367, 12))"
      ]
     },
     "execution_count": 14,
     "metadata": {},
     "output_type": "execute_result"
    }
   ],
   "source": [
    "train.shape, test.shape"
   ]
  },
  {
   "cell_type": "markdown",
   "metadata": {},
   "source": [
    "We have 614 rows and 13 columns in the train dataset and 367 rows and 12 columns in test dataset."
   ]
  },
  {
   "cell_type": "markdown",
   "metadata": {},
   "source": [
    "# Exploratory Data Analysis (EDA) and Data PreProcessing"
   ]
  },
  {
   "cell_type": "markdown",
   "metadata": {},
   "source": [
    "## Univariate Analysis"
   ]
  },
  {
   "cell_type": "markdown",
   "metadata": {},
   "source": [
    "In this section, we will do univariate analysis. It is the simplest form of analyzing data where we examine each variable individually. For categorical features we can use frequency table or bar plots which will calculate the number of each category in a particular variable. For numerical features, probability density plots can be used to look at the distribution of the variable."
   ]
  },
  {
   "cell_type": "markdown",
   "metadata": {},
   "source": [
    "## Target"
   ]
  },
  {
   "cell_type": "markdown",
   "metadata": {},
   "source": [
    "We will first look at the target variable, i.e., Loan_Status. As it is a categorical variable, let us look at its frequency table, percentage distribution and bar plot.\n",
    "\n",
    "Frequency table of a variable will give us the count of each category in that variable."
   ]
  },
  {
   "cell_type": "code",
   "execution_count": 15,
   "metadata": {},
   "outputs": [
    {
     "data": {
      "text/plain": [
       "Y    422\n",
       "N    192\n",
       "Name: Loan_Status, dtype: int64"
      ]
     },
     "execution_count": 15,
     "metadata": {},
     "output_type": "execute_result"
    }
   ],
   "source": [
    "train['Loan_Status'].value_counts()"
   ]
  },
  {
   "cell_type": "code",
   "execution_count": 16,
   "metadata": {},
   "outputs": [
    {
     "data": {
      "text/plain": [
       "Y    0.687296\n",
       "N    0.312704\n",
       "Name: Loan_Status, dtype: float64"
      ]
     },
     "execution_count": 16,
     "metadata": {},
     "output_type": "execute_result"
    }
   ],
   "source": [
    "# Normalize can be set to True to print proportions instead of number \n",
    "train['Loan_Status'].value_counts(normalize = True)"
   ]
  },
  {
   "cell_type": "code",
   "execution_count": 17,
   "metadata": {},
   "outputs": [
    {
     "data": {
      "image/png": "[encoded data removed]",
      "text/plain": [
       "<Figure size 432x288 with 1 Axes>"
      ]
     },
     "metadata": {
      "needs_background": "light"
     },
     "output_type": "display_data"
    }
   ],
   "source": [
    "train['Loan_Status'].value_counts().plot.bar();"
   ]
  },
  {
   "cell_type": "markdown",
   "metadata": {},
   "source": [
    "The loan of 422(around 69%) people out of 614 was approved.\n",
    "\n",
    "Now lets visualize each variable separately. Different types of variables are Categorical, ordinal and numerical.\n",
    "\n",
    "* Categorical features: These features have categories (Gender, Married, Self_Employed, Credit_History, Loan_Status)\n",
    "* Ordinal features: Variables in categorical features having some order involved (Dependents, Education, Property_Area)\n",
    "* Numerical features: These features have numerical values (ApplicantIncome, CoapplicantIncome, LoanAmount, Loan_Amount_Term)\n",
    "\n",
    "Let’s visualize the categorical and ordinal features first."
   ]
  },
  {
   "cell_type": "markdown",
   "metadata": {},
   "source": [
    "## Independent variable (Categorical)"
   ]
  },
  {
   "cell_type": "code",
   "execution_count": 18,
   "metadata": {},
   "outputs": [],
   "source": [
    "# Creating a list of categorical variables.\n",
    "categorical_variables = ['Gender', 'Married', 'Self_Employed', 'Credit_History', 'Loan_Status']\n",
    "# Function to show all the categorical variables plots.\n",
    "def categorical_features(df):\n",
    "    for col in categorical_variables:\n",
    "        plot_cat = train[col].value_counts(normalize=True).plot.bar(figsize=(10,5), title= col)\n",
    "        plt.show(plot_cat)\n",
    " "
   ]
  },
  {
   "cell_type": "code",
   "execution_count": 19,
   "metadata": {},
   "outputs": [
    {
     "data": {
      "image/png": "[encoded data removed]",
      "text/plain": [
       "<Figure size 720x360 with 1 Axes>"
      ]
     },
     "metadata": {
      "needs_background": "light"
     },
     "output_type": "display_data"
    },
    {
     "data": {
      "image/png": "[encoded data removed]",
      "text/plain": [
       "<Figure size 720x360 with 1 Axes>"
      ]
     },
     "metadata": {
      "needs_background": "light"
     },
     "output_type": "display_data"
    },
    {
     "data": {
      "image/png": "[encoded data removed]",
      "text/plain": [
       "<Figure size 720x360 with 1 Axes>"
      ]
     },
     "metadata": {
      "needs_background": "light"
     },
     "output_type": "display_data"
    },
    {
     "data": {
      "image/png": "[encoded data removed]",
      "text/plain": [
       "<Figure size 720x360 with 1 Axes>"
      ]
     },
     "metadata": {
      "needs_background": "light"
     },
     "output_type": "display_data"
    },
    {
     "data": {
      "image/png": "[encoded data removed]",
      "text/plain": [
       "<Figure size 720x360 with 1 Axes>"
      ]
     },
     "metadata": {
      "needs_background": "light"
     },
     "output_type": "display_data"
    }
   ],
   "source": [
    "categorical_features(train)\n"
   ]
  },
  {
   "cell_type": "markdown",
   "metadata": {},
   "source": [
    "It can be inferred from the above bar plots that:\n",
    "\n",
    "* 80% applicants in the dataset are male.\n",
    "* Around 65% of the applicants in the dataset are married.\n",
    "* Around 15% applicants in the dataset are self employed.\n",
    "* Around 85% applicants have repaid their debts.\n",
    "Now let’s visualize the ordinal variables."
   ]
  },
  {
   "cell_type": "markdown",
   "metadata": {},
   "source": [
    "## Independet variable (Ordinal)"
   ]
  },
  {
   "cell_type": "code",
   "execution_count": 20,
   "metadata": {},
   "outputs": [],
   "source": [
    "# Create a List of ordinal features:\n",
    "ordinal_variables = ['Dependents', 'Education', 'Property_Area']\n",
    "# Function to show all the ordinal variables plots.\n",
    "def ordinal_features(df):\n",
    "    for col in ordinal_variables:\n",
    "        plot_ord = train[col].value_counts(normalize = True).plot.bar(figsize=(10,5), title= col)\n",
    "        plt.show(plot_ord)\n",
    "      \n",
    "    "
   ]
  },
  {
   "cell_type": "code",
   "execution_count": 21,
   "metadata": {},
   "outputs": [
    {
     "data": {
      "image/png": "[encoded data removed]",
      "text/plain": [
       "<Figure size 720x360 with 1 Axes>"
      ]
     },
     "metadata": {
      "needs_background": "light"
     },
     "output_type": "display_data"
    },
    {
     "data": {
      "image/png": "[encoded data removed]",
      "text/plain": [
       "<Figure size 720x360 with 1 Axes>"
      ]
     },
     "metadata": {
      "needs_background": "light"
     },
     "output_type": "display_data"
    },
    {
     "data": {
      "image/png": "[encoded data removed]",
      "text/plain": [
       "<Figure size 720x360 with 1 Axes>"
      ]
     },
     "metadata": {
      "needs_background": "light"
     },
     "output_type": "display_data"
    }
   ],
   "source": [
    "ordinal_features(train)"
   ]
  },
  {
   "cell_type": "markdown",
   "metadata": {},
   "source": [
    "Following inferences can be made from the above bar plots:\n",
    "\n",
    "* Most of the applicants don’t have any dependents.\n",
    "* Around 80% of the applicants are Graduate.\n",
    "* Most of the applicants are from Semiurban area."
   ]
  },
  {
   "cell_type": "markdown",
   "metadata": {},
   "source": [
    "## Independent variable (Numerical)"
   ]
  },
  {
   "cell_type": "code",
   "execution_count": 22,
   "metadata": {},
   "outputs": [],
   "source": [
    "# Create a List of numeric features:\n",
    "numeric_variables = ['ApplicantIncome', 'CoapplicantIncome', 'LoanAmount', 'Loan_Amount_Term']\n",
    "# Function to show all the numeric variables plots.\n",
    "def numeric_features(df):\n",
    "    for col in numeric_variables:\n",
    "        plot_num = sns.distplot(df[col])\n",
    "        plt.show(plot_num)\n",
    "\n",
    "train_drop_na = train.dropna()\n",
    "      "
   ]
  },
  {
   "cell_type": "code",
   "execution_count": 23,
   "metadata": {},
   "outputs": [
    {
     "data": {
      "image/png": "[encoded data removed]",
      "text/plain": [
       "<Figure size 432x288 with 1 Axes>"
      ]
     },
     "metadata": {
      "needs_background": "light"
     },
     "output_type": "display_data"
    },
    {
     "data": {
      "image/png": "[encoded data removed]",
      "text/plain": [
       "<Figure size 432x288 with 1 Axes>"
      ]
     },
     "metadata": {
      "needs_background": "light"
     },
     "output_type": "display_data"
    },
    {
     "data": {
      "image/png": "[encoded data removed]",
      "text/plain": [
       "<Figure size 432x288 with 1 Axes>"
      ]
     },
     "metadata": {
      "needs_background": "light"
     },
     "output_type": "display_data"
    },
    {
     "data": {
      "image/png": "[encoded data removed]",
      "text/plain": [
       "<Figure size 432x288 with 1 Axes>"
      ]
     },
     "metadata": {
      "needs_background": "light"
     },
     "output_type": "display_data"
    }
   ],
   "source": [
    "numeric_features(train_drop_na)"
   ]
  },
  {
   "cell_type": "markdown",
   "metadata": {},
   "source": [
    "Lets recall some of the hypotheses that we generated earlier:\n",
    "\n",
    "* Applicants with high income should have more chances of loan approval.\n",
    "* Applicants who have repaid their previous debts should have higher chances of loan approval.\n",
    "* Loan approval should also depend on the loan amount. If the loan amount is less, chances of loan approval should be high.\n",
    "* Lesser the amount to be paid monthly to repay the loan, higher the chances of loan approval.\n",
    "* Lets try to test the above mentioned hypotheses using bivariate analysis\n",
    "\n",
    "After looking at every variable individually in univariate analysis, we will now explore them again with respect to the target variable."
   ]
  },
  {
   "cell_type": "markdown",
   "metadata": {},
   "source": [
    "## Categorical Independent Variable vs Target Variable"
   ]
  },
  {
   "cell_type": "markdown",
   "metadata": {},
   "source": [
    "First of all we will find the relation between target variable and categorical independent variables. Let us look at the stacked bar plot now which will give us the proportion of approved and unapproved loans."
   ]
  },
  {
   "cell_type": "code",
   "execution_count": 24,
   "metadata": {},
   "outputs": [
    {
     "data": {
      "image/png": "[encoded data removed]",
      "text/plain": [
       "<Figure size 288x288 with 1 Axes>"
      ]
     },
     "metadata": {
      "needs_background": "light"
     },
     "output_type": "display_data"
    }
   ],
   "source": [
    "Gender=pd.crosstab(train['Gender'],train['Loan_Status'])\n",
    "Gender.div(Gender.sum(1).astype(float), axis=0).plot(kind=\"bar\", stacked=True, figsize=(4,4));"
   ]
  },
  {
   "cell_type": "markdown",
   "metadata": {},
   "source": [
    "It can be inferred that the proportion of male and female applicants is more or less same for both approved and unapproved loans.\n",
    "\n",
    "Now let us visualize the remaining categorical variables vs target variable."
   ]
  },
  {
   "cell_type": "code",
   "execution_count": 25,
   "metadata": {},
   "outputs": [
    {
     "data": {
      "image/png": "[encoded data removed]",
      "text/plain": [
       "<Figure size 288x288 with 1 Axes>"
      ]
     },
     "metadata": {
      "needs_background": "light"
     },
     "output_type": "display_data"
    },
    {
     "data": {
      "image/png": "[encoded data removed]",
      "text/plain": [
       "<Figure size 432x288 with 1 Axes>"
      ]
     },
     "metadata": {
      "needs_background": "light"
     },
     "output_type": "display_data"
    },
    {
     "data": {
      "image/png": "[encoded data removed]",
      "text/plain": [
       "<Figure size 288x288 with 1 Axes>"
      ]
     },
     "metadata": {
      "needs_background": "light"
     },
     "output_type": "display_data"
    },
    {
     "data": {
      "image/png": "[encoded data removed]",
      "text/plain": [
       "<Figure size 288x288 with 1 Axes>"
      ]
     },
     "metadata": {
      "needs_background": "light"
     },
     "output_type": "display_data"
    }
   ],
   "source": [
    "Married=pd.crosstab(train['Married'],train['Loan_Status'])\n",
    "Dependents=pd.crosstab(train['Dependents'],train['Loan_Status'])\n",
    "Education=pd.crosstab(train['Education'],train['Loan_Status'])\n",
    "Self_Employed=pd.crosstab(train['Self_Employed'],train['Loan_Status'])\n",
    "\n",
    "Married.div(Married.sum(1).astype(float), axis=0).plot(kind=\"bar\", stacked=True, figsize=(4,4))\n",
    "plt.show()\n",
    "\n",
    "Dependents.div(Dependents.sum(1).astype(float), axis=0).plot(kind=\"bar\", stacked=True)\n",
    "plt.show()\n",
    "\n",
    "Education.div(Education.sum(1).astype(float), axis=0).plot(kind=\"bar\", stacked=True, figsize=(4,4))\n",
    "plt.show()\n",
    "\n",
    "Self_Employed.div(Self_Employed.sum(1).astype(float), axis=0).plot(kind=\"bar\", stacked=True, figsize=(4,4))\n",
    "plt.show()"
   ]
  },
  {
   "cell_type": "markdown",
   "metadata": {},
   "source": [
    "Proportion of married applicants is higher for the approved loans.\n",
    "\n",
    "* Distribution of applicants with 1 or 3+ dependents is similar across both the categories of Loan_Status.\n",
    "* There is nothing significant we can infer from Self_Employed vs Loan_Status plot.\n",
    "\n",
    "Now we will look at the relationship between remaining categorical independent variables and Loan_Status."
   ]
  },
  {
   "cell_type": "code",
   "execution_count": 26,
   "metadata": {},
   "outputs": [
    {
     "data": {
      "image/png": "[encoded data removed]",
      "text/plain": [
       "<Figure size 288x288 with 1 Axes>"
      ]
     },
     "metadata": {
      "needs_background": "light"
     },
     "output_type": "display_data"
    },
    {
     "data": {
      "image/png": "[encoded data removed]",
      "text/plain": [
       "<Figure size 432x288 with 1 Axes>"
      ]
     },
     "metadata": {
      "needs_background": "light"
     },
     "output_type": "display_data"
    }
   ],
   "source": [
    "Credit_History=pd.crosstab(train['Credit_History'],train['Loan_Status'])\n",
    "Property_Area=pd.crosstab(train['Property_Area'],train['Loan_Status'])\n",
    "\n",
    "Credit_History.div(Credit_History.sum(1).astype(float), axis=0).plot(kind=\"bar\", stacked=True, figsize=(4,4))\n",
    "plt.show()\n",
    "\n",
    "Property_Area.div(Property_Area.sum(1).astype(float), axis=0).plot(kind=\"bar\", stacked=True)\n",
    "plt.show()"
   ]
  },
  {
   "cell_type": "markdown",
   "metadata": {},
   "source": [
    "* It seems people with credit history as 1 are more likely to get their loans approved.\n",
    "* Proportion of loans getting approved in semiurban area is higher as compared to that in rural or urban areas.\n",
    "\n",
    "Now let’s visualize numerical independent variables with respect to target variable."
   ]
  },
  {
   "cell_type": "markdown",
   "metadata": {},
   "source": [
    "## Numerical Independent Variable vs Target Variable"
   ]
  },
  {
   "cell_type": "markdown",
   "metadata": {},
   "source": [
    "We will try to find the mean income of people for which the loan has been approved vs the mean income of people for which the loan has not been approved."
   ]
  },
  {
   "cell_type": "code",
   "execution_count": 27,
   "metadata": {},
   "outputs": [
    {
     "data": {
      "image/png": "[encoded data removed]",
      "text/plain": [
       "<Figure size 432x288 with 1 Axes>"
      ]
     },
     "metadata": {
      "needs_background": "light"
     },
     "output_type": "display_data"
    }
   ],
   "source": [
    "train.groupby('Loan_Status')['ApplicantIncome'].mean().plot.bar();"
   ]
  },
  {
   "cell_type": "markdown",
   "metadata": {},
   "source": [
    "Here the y-axis represents the mean applicant income. We don’t see any change in the mean income. So, let’s make bins for the applicant income variable based on the values in it and analyze the corresponding loan status for each bin."
   ]
  },
  {
   "cell_type": "code",
   "execution_count": 28,
   "metadata": {},
   "outputs": [],
   "source": [
    "bins=[0,2500,4000,6000,81000]\n",
    "group=['Low','Average','High', 'Very high']\n",
    "train['Income_bin']=pd.cut(train['ApplicantIncome'],bins,labels=group)"
   ]
  },
  {
   "cell_type": "code",
   "execution_count": 29,
   "metadata": {},
   "outputs": [
    {
     "data": {
      "image/png": "[encoded data removed]",
      "text/plain": [
       "<Figure size 432x288 with 1 Axes>"
      ]
     },
     "metadata": {
      "needs_background": "light"
     },
     "output_type": "display_data"
    }
   ],
   "source": [
    "Income_bin=pd.crosstab(train['Income_bin'],train['Loan_Status'])\n",
    "Income_bin.div(Income_bin.sum(1).astype(float), axis=0).plot(kind=\"bar\", stacked=True)\n",
    "plt.xlabel('ApplicantIncome')\n",
    "P = plt.ylabel('Percentage')"
   ]
  },
  {
   "cell_type": "code",
   "execution_count": 30,
   "metadata": {},
   "outputs": [],
   "source": [
    "bins=[0,1000,3000,42000]\n",
    "group=['Low','Average','High']\n",
    "train['Coapplicant_Income_bin']=pd.cut(train['CoapplicantIncome'],bins,labels=group)"
   ]
  },
  {
   "cell_type": "code",
   "execution_count": 31,
   "metadata": {},
   "outputs": [
    {
     "data": {
      "image/png": "[encoded data removed]",
      "text/plain": [
       "<Figure size 432x288 with 1 Axes>"
      ]
     },
     "metadata": {
      "needs_background": "light"
     },
     "output_type": "display_data"
    }
   ],
   "source": [
    "Coapplicant_Income_bin=pd.crosstab(train['Coapplicant_Income_bin'],train['Loan_Status'])\n",
    "Coapplicant_Income_bin.div(Coapplicant_Income_bin.sum(1).astype(float), axis=0).plot(kind=\"bar\", stacked=True)\n",
    "plt.xlabel('CoapplicantIncome')\n",
    "P = plt.ylabel('Percentage')"
   ]
  },
  {
   "cell_type": "markdown",
   "metadata": {},
   "source": [
    "It shows that if coapplicant’s income is less the chances of loan approval are high. But this does not look right. The possible reason behind this may be that most of the applicants don’t have any coapplicant so the coapplicant income for such applicants is 0 and hence the loan approval is not dependent on it. So we can make a new variable in which we will combine the applicant’s and coapplicant’s income to visualize the combined effect of income on loan approval.\n",
    "\n",
    "Let us combine the Applicant Income and Coapplicant Income and see the combined effect of Total Income on the Loan_Status."
   ]
  },
  {
   "cell_type": "code",
   "execution_count": 32,
   "metadata": {},
   "outputs": [],
   "source": [
    "train['Total_Income'] = train['ApplicantIncome'] + train['CoapplicantIncome']"
   ]
  },
  {
   "cell_type": "code",
   "execution_count": 33,
   "metadata": {},
   "outputs": [],
   "source": [
    "bins=[0,2500,4000,6000,81000]\n",
    "group=['Low','Average','High', 'Very high']\n",
    "train['Total_Income_bin']=pd.cut(train['Total_Income'],bins,labels=group)"
   ]
  },
  {
   "cell_type": "code",
   "execution_count": 34,
   "metadata": {},
   "outputs": [
    {
     "data": {
      "image/png": "[encoded data removed]",
      "text/plain": [
       "<Figure size 432x288 with 1 Axes>"
      ]
     },
     "metadata": {
      "needs_background": "light"
     },
     "output_type": "display_data"
    }
   ],
   "source": [
    "Total_Income_bin=pd.crosstab(train['Total_Income_bin'],train['Loan_Status'])\n",
    "Total_Income_bin.div(Total_Income_bin.sum(1).astype(float), axis=0).plot(kind=\"bar\", stacked=True)\n",
    "plt.xlabel('Total_Income')\n",
    "P = plt.ylabel('Percentage')"
   ]
  },
  {
   "cell_type": "markdown",
   "metadata": {},
   "source": [
    "We can see that Proportion of loans getting approved for applicants having low Total_Income is very less as compared to that of applicants with Average, High and Very High Income.\n",
    "\n",
    "Let’s visualize the Loan amount variable."
   ]
  },
  {
   "cell_type": "code",
   "execution_count": 35,
   "metadata": {},
   "outputs": [],
   "source": [
    "bins=[0,100,200,700]\n",
    "group=['Low','Average','High']\n",
    "train['LoanAmount_bin']=pd.cut(train['LoanAmount'],bins,labels=group)"
   ]
  },
  {
   "cell_type": "code",
   "execution_count": 36,
   "metadata": {},
   "outputs": [
    {
     "data": {
      "image/png": "[encoded data removed]",
      "text/plain": [
       "<Figure size 432x288 with 1 Axes>"
      ]
     },
     "metadata": {
      "needs_background": "light"
     },
     "output_type": "display_data"
    }
   ],
   "source": [
    "LoanAmount_bin=pd.crosstab(train['LoanAmount_bin'],train['Loan_Status'])\n",
    "LoanAmount_bin.div(LoanAmount_bin.sum(1).astype(float), axis=0).plot(kind=\"bar\", stacked=True)\n",
    "plt.xlabel('LoanAmount')\n",
    "P = plt.ylabel('Percentage')\n"
   ]
  },
  {
   "cell_type": "markdown",
   "metadata": {},
   "source": [
    "It can be seen that the proportion of approved loans is higher for Low and Average Loan Amount as compared to that of High Loan Amount which supports our hypothesis in which we considered that the chances of loan approval will be high when the loan amount is less.\n",
    "\n",
    "Let’s drop the bins which we created for the exploration part. We will change the 3+ in dependents variable to 3 to make it a numerical variable.We will also convert the target variable’s categories into 0 and 1 so that we can find its correlation with numerical variables. One more reason to do so is few models like logistic regression takes only numeric values as input. We will replace N with 0 and Y with 1."
   ]
  },
  {
   "cell_type": "code",
   "execution_count": 37,
   "metadata": {},
   "outputs": [],
   "source": [
    "train=train.drop(['Income_bin', 'Coapplicant_Income_bin', 'LoanAmount_bin', 'Total_Income_bin', 'Total_Income'], axis=1)"
   ]
  },
  {
   "cell_type": "code",
   "execution_count": 38,
   "metadata": {},
   "outputs": [],
   "source": [
    "train['Dependents'].replace('3+', 3,inplace=True)\n",
    "test['Dependents'].replace('3+', 3,inplace=True)\n",
    "train['Loan_Status'].replace('N', 0,inplace=True)\n",
    "train['Loan_Status'].replace('Y', 1,inplace=True)"
   ]
  },
  {
   "cell_type": "markdown",
   "metadata": {},
   "source": [
    "Now lets look at the correlation between all the numerical variables. We will use the heat map to visualize the correlation. Heatmaps visualize data through variations in coloring. The variables with darker color means their correlation is more."
   ]
  },
  {
   "cell_type": "code",
   "execution_count": 39,
   "metadata": {},
   "outputs": [
    {
     "data": {
      "image/png": "[encoded data removed]",
      "text/plain": [
       "<Figure size 648x432 with 2 Axes>"
      ]
     },
     "metadata": {
      "needs_background": "light"
     },
     "output_type": "display_data"
    }
   ],
   "source": [
    "matrix = train.corr()\n",
    "f, ax = plt.subplots(figsize=(9, 6))\n",
    "sns.heatmap(matrix, vmax=.8, square=True, cmap=\"BuPu\");"
   ]
  },
  {
   "cell_type": "markdown",
   "metadata": {},
   "source": [
    "We see that the most correlated variables are (ApplicantIncome - LoanAmount) and (Credit_History - Loan_Status). LoanAmount is also correlated with CoapplicantIncome."
   ]
  },
  {
   "cell_type": "markdown",
   "metadata": {},
   "source": [
    "After exploring all the variables in our data, we can now impute the missing values and treat the outliers because missing data and outliers can have adverse effect on the model performance."
   ]
  },
  {
   "cell_type": "markdown",
   "metadata": {},
   "source": [
    "## Missing value imputation"
   ]
  },
  {
   "cell_type": "markdown",
   "metadata": {},
   "source": [
    "Let’s list out feature-wise count of missing values."
   ]
  },
  {
   "cell_type": "code",
   "execution_count": 40,
   "metadata": {},
   "outputs": [
    {
     "data": {
      "text/plain": [
       "Loan_ID               0\n",
       "Gender               13\n",
       "Married               3\n",
       "Dependents           15\n",
       "Education             0\n",
       "Self_Employed        32\n",
       "ApplicantIncome       0\n",
       "CoapplicantIncome     0\n",
       "LoanAmount           22\n",
       "Loan_Amount_Term     14\n",
       "Credit_History       50\n",
       "Property_Area         0\n",
       "Loan_Status           0\n",
       "dtype: int64"
      ]
     },
     "execution_count": 40,
     "metadata": {},
     "output_type": "execute_result"
    }
   ],
   "source": [
    "train.isnull().sum() "
   ]
  },
  {
   "cell_type": "markdown",
   "metadata": {},
   "source": [
    "There are missing values in Gender, Married, Dependents, Self_Employed, LoanAmount, Loan_Amount_Term and Credit_History features.\n",
    "\n",
    "* **We will treat the missing values in all the features one by one.**\n",
    "\n",
    "* **We can consider these methods to fill the missing values:**\n",
    "\n",
    "**For numerical variables:** imputation using mean or median.\n",
    "\n",
    "**For categorical variables:** imputation using mode.\n",
    "\n",
    "There are very less missing values in Gender, Married, Dependents, Credit_History and Self_Employed features so we can fill them using the mode of the features."
   ]
  },
  {
   "cell_type": "code",
   "execution_count": 41,
   "metadata": {},
   "outputs": [],
   "source": [
    "# Create a function\n",
    "cat_imp_list = ['Gender','Married','Dependents','Credit_History','Self_Employed']\n",
    "\n",
    "def cat_imputation (df):\n",
    "    for col in cat_imp_list:\n",
    "        df[col].fillna(df[col].mode()[0],inplace=True)\n",
    "    return     \n",
    "\n",
    "cat_imputation(train)"
   ]
  },
  {
   "cell_type": "code",
   "execution_count": 42,
   "metadata": {},
   "outputs": [
    {
     "data": {
      "text/plain": [
       "Loan_ID               0\n",
       "Gender                0\n",
       "Married               0\n",
       "Dependents            0\n",
       "Education             0\n",
       "Self_Employed         0\n",
       "ApplicantIncome       0\n",
       "CoapplicantIncome     0\n",
       "LoanAmount           22\n",
       "Loan_Amount_Term     14\n",
       "Credit_History        0\n",
       "Property_Area         0\n",
       "Loan_Status           0\n",
       "dtype: int64"
      ]
     },
     "execution_count": 42,
     "metadata": {},
     "output_type": "execute_result"
    }
   ],
   "source": [
    "# Result\n",
    "train.isnull().sum()"
   ]
  },
  {
   "cell_type": "markdown",
   "metadata": {},
   "source": [
    "Now let’s try to find a way to fill the missing values in Loan_Amount_Term. We will look at the value count of the Loan amount term variable."
   ]
  },
  {
   "cell_type": "code",
   "execution_count": 43,
   "metadata": {},
   "outputs": [
    {
     "data": {
      "text/plain": [
       "360.0    512\n",
       "180.0     44\n",
       "480.0     15\n",
       "300.0     13\n",
       "84.0       4\n",
       "240.0      4\n",
       "120.0      3\n",
       "36.0       2\n",
       "60.0       2\n",
       "12.0       1\n",
       "Name: Loan_Amount_Term, dtype: int64"
      ]
     },
     "execution_count": 43,
     "metadata": {},
     "output_type": "execute_result"
    }
   ],
   "source": [
    "train['Loan_Amount_Term'].value_counts()"
   ]
  },
  {
   "cell_type": "markdown",
   "metadata": {},
   "source": [
    "It can be seen that in loan amount term variable, the value of 360 is repeating the most. So we will replace the missing values in this variable using the mode of this variable."
   ]
  },
  {
   "cell_type": "code",
   "execution_count": 44,
   "metadata": {},
   "outputs": [],
   "source": [
    "train['Loan_Amount_Term'].fillna(train['Loan_Amount_Term'].mode()[0],inplace = True)"
   ]
  },
  {
   "cell_type": "code",
   "execution_count": 45,
   "metadata": {},
   "outputs": [
    {
     "data": {
      "text/plain": [
       "Loan_ID               0\n",
       "Gender                0\n",
       "Married               0\n",
       "Dependents            0\n",
       "Education             0\n",
       "Self_Employed         0\n",
       "ApplicantIncome       0\n",
       "CoapplicantIncome     0\n",
       "LoanAmount           22\n",
       "Loan_Amount_Term      0\n",
       "Credit_History        0\n",
       "Property_Area         0\n",
       "Loan_Status           0\n",
       "dtype: int64"
      ]
     },
     "execution_count": 45,
     "metadata": {},
     "output_type": "execute_result"
    }
   ],
   "source": [
    "# Result\n",
    "train.isnull().sum()"
   ]
  },
  {
   "cell_type": "markdown",
   "metadata": {},
   "source": [
    "Now we will see the LoanAmount variable. As it is a numerical variable, we can use mean or median to impute the missing values. We will use median to fill the null values as earlier we saw that loan amount have outliers so the mean will not be the proper approach as it is highly affected by the presence of outliers."
   ]
  },
  {
   "cell_type": "code",
   "execution_count": 46,
   "metadata": {},
   "outputs": [],
   "source": [
    "train['LoanAmount'].fillna(train[\"LoanAmount\"].median(),inplace = True)"
   ]
  },
  {
   "cell_type": "code",
   "execution_count": 47,
   "metadata": {},
   "outputs": [
    {
     "data": {
      "text/plain": [
       "Loan_ID              0\n",
       "Gender               0\n",
       "Married              0\n",
       "Dependents           0\n",
       "Education            0\n",
       "Self_Employed        0\n",
       "ApplicantIncome      0\n",
       "CoapplicantIncome    0\n",
       "LoanAmount           0\n",
       "Loan_Amount_Term     0\n",
       "Credit_History       0\n",
       "Property_Area        0\n",
       "Loan_Status          0\n",
       "dtype: int64"
      ]
     },
     "execution_count": 47,
     "metadata": {},
     "output_type": "execute_result"
    }
   ],
   "source": [
    "# Result\n",
    "train.isnull().sum()"
   ]
  },
  {
   "cell_type": "markdown",
   "metadata": {},
   "source": [
    "As we can see that all the missing values have been filled in the train dataset. Let’s fill all the missing values in the test dataset too with the same approach."
   ]
  },
  {
   "cell_type": "code",
   "execution_count": 48,
   "metadata": {},
   "outputs": [
    {
     "data": {
      "text/plain": [
       "Loan_ID               0\n",
       "Gender               11\n",
       "Married               0\n",
       "Dependents           10\n",
       "Education             0\n",
       "Self_Employed        23\n",
       "ApplicantIncome       0\n",
       "CoapplicantIncome     0\n",
       "LoanAmount            5\n",
       "Loan_Amount_Term      6\n",
       "Credit_History       29\n",
       "Property_Area         0\n",
       "dtype: int64"
      ]
     },
     "execution_count": 48,
     "metadata": {},
     "output_type": "execute_result"
    }
   ],
   "source": [
    "test.isnull().sum()"
   ]
  },
  {
   "cell_type": "code",
   "execution_count": 49,
   "metadata": {},
   "outputs": [
    {
     "data": {
      "text/plain": [
       "Loan_ID              0\n",
       "Gender               0\n",
       "Married              0\n",
       "Dependents           0\n",
       "Education            0\n",
       "Self_Employed        0\n",
       "ApplicantIncome      0\n",
       "CoapplicantIncome    0\n",
       "LoanAmount           0\n",
       "Loan_Amount_Term     0\n",
       "Credit_History       0\n",
       "Property_Area        0\n",
       "dtype: int64"
      ]
     },
     "execution_count": 49,
     "metadata": {},
     "output_type": "execute_result"
    }
   ],
   "source": [
    "test['Loan_Amount_Term'].fillna(test['Loan_Amount_Term'].mode()[0],inplace = True)\n",
    "test['LoanAmount'].fillna(test[\"LoanAmount\"].median(),inplace = True)\n",
    "test['Gender'].fillna(test['Gender'].mode()[0],inplace = True)\n",
    "test['Dependents'].fillna(test[\"Dependents\"].mode()[0],inplace = True)\n",
    "test['Self_Employed'].fillna(test['Self_Employed'].mode()[0],inplace = True)\n",
    "test['Credit_History'].fillna(test[\"Credit_History\"].mode()[0],inplace = True)\n",
    "test.isnull().sum()"
   ]
  },
  {
   "cell_type": "markdown",
   "metadata": {},
   "source": [
    "## Outilier Treatment"
   ]
  },
  {
   "cell_type": "markdown",
   "metadata": {},
   "source": [
    "As we saw earlier in univariate analysis, LoanAmount contains outliers so we have to treat them as the presence of outliers affects the distribution of the data. Let's examine what can happen to a data set with outliers. For the sample data set:\n",
    "\n",
    "1, 1, 2, 2, 2, 2, 3, 3, 3, 4, 4\n",
    "\n",
    "We find the following: mean, median, mode, and standard deviation\n",
    "\n",
    "Mean = 2.58\n",
    "\n",
    "Median = 2.5\n",
    "\n",
    "Mode = 2\n",
    "\n",
    "Standard Deviation = 1.08\n",
    "\n",
    "If we add an outlier to the data set:\n",
    "\n",
    "1, 1, 2, 2, 2, 2, 3, 3, 3, 4, 4, 400\n",
    "\n",
    "The new values of our statistics are:\n",
    "\n",
    "Mean = 35.38\n",
    "\n",
    "Median = 2.5\n",
    "\n",
    "Mode = 2\n",
    "\n",
    "Standard Deviation = 114.74\n",
    "\n",
    "It can be seen that having outliers often has a significant effect on the mean and standard deviation and hence affecting the distribution. We must take steps to remove outliers from our data sets.\n",
    "\n",
    "Due to these outliers bulk of the data in the loan amount is at the left and the right tail is longer. This is called right skewness. One way to remove the skewness is by doing the log transformation. As we take the log transformation, it does not affect the smaller values much, but reduces the larger values. So, we get a distribution similar to normal distribution.\n",
    "\n",
    "Let’s visualize the effect of log transformation. We will do the similar changes to the test file simultaneously."
   ]
  },
  {
   "cell_type": "code",
   "execution_count": 50,
   "metadata": {},
   "outputs": [
    {
     "data": {
      "image/png": "[encoded data removed]",
      "text/plain": [
       "<Figure size 432x288 with 1 Axes>"
      ]
     },
     "metadata": {
      "needs_background": "light"
     },
     "output_type": "display_data"
    }
   ],
   "source": [
    "train['LoanAmount_log'] = np.log(train['LoanAmount'])\n",
    "train['LoanAmount_log'].hist(bins=20)\n",
    "test['LoanAmount_log'] = np.log(test['LoanAmount'])"
   ]
  },
  {
   "cell_type": "markdown",
   "metadata": {},
   "source": [
    "Now the distribution looks much closer to normal and effect of extreme values has been significantly subsided. Let’s build a logistic regression model and make predictions for the test dataset."
   ]
  },
  {
   "cell_type": "markdown",
   "metadata": {},
   "source": [
    "Let us make our first model to predict the target variable. We will start with Logistic Regression which is used for predicting binary outcome.\n",
    "\n",
    "* **Logistic Regression is a classification algorithm. It is used to predict a binary outcome (1 / 0, Yes / No, True / False) given a set of independent variables.**\n",
    "* **Logistic regression is an estimation of Logit function. Logit function is simply a log of odds in favor of the event.**\n",
    "* **This function creates a s-shaped curve with the probability estimate, which is very similar to the required step wise function\n",
    "To learn further on logistic regression, refer this article: https://www.analyticsvidhya.com/blog/2015/10/basics-logistic-regression/**\n",
    "\n",
    "Lets drop the Loan_ID variable as it do not have any effect on the loan status. We will do the same changes to the test dataset which we did for the training dataset."
   ]
  },
  {
   "cell_type": "code",
   "execution_count": 51,
   "metadata": {},
   "outputs": [],
   "source": [
    "train=train.drop('Loan_ID',axis=1)\n",
    "test =test.drop('Loan_ID',axis = 1)"
   ]
  },
  {
   "cell_type": "markdown",
   "metadata": {},
   "source": [
    "We will use scikit-learn (sklearn) for making different models which is an open source library for Python. It is one of the most efficient tool which contains many inbuilt functions that can be used for modeling in Python.\n",
    "\n",
    "To learn further about sklearn, refer here: http://scikit-learn.org/stable/tutorial/index.html\n",
    "\n",
    "Sklearn requires the target variable in a separate dataset. So, we will drop our target variable from the train dataset and save it in another dataset."
   ]
  },
  {
   "cell_type": "code",
   "execution_count": 52,
   "metadata": {},
   "outputs": [],
   "source": [
    "X = train.drop('Loan_Status',1)\n",
    "Y = train.Loan_Status"
   ]
  },
  {
   "cell_type": "markdown",
   "metadata": {},
   "source": [
    "Now we will make dummy variables for the categorical variables. Dummy variable turns categorical variables into a series of 0 and 1, making them lot easier to quantify and compare. Let us understand the process of dummies first:\n",
    "\n",
    "* **Consider the “Gender” variable. It has two classes, Male and Female.**\n",
    "* **As logistic regression takes only the numerical values as input, we have to change male and female into numerical value.**\n",
    "* **Once we apply dummies to this variable, it will convert the “Gender” variable into two variables(Gender_Male and Gender_Female), one for each class, i.e. Male and Female.**\n",
    "* **Gender_Male will have a value of 0 if the gender is Female and a value of 1 if the gender is Male.**"
   ]
  },
  {
   "cell_type": "code",
   "execution_count": 53,
   "metadata": {},
   "outputs": [],
   "source": [
    "X = pd.get_dummies(X)\n",
    "train = pd.get_dummies(train)\n",
    "test = pd.get_dummies(test)"
   ]
  },
  {
   "cell_type": "code",
   "execution_count": 54,
   "metadata": {},
   "outputs": [
    {
     "data": {
      "text/plain": [
       "Index(['ApplicantIncome', 'CoapplicantIncome', 'LoanAmount',\n",
       "       'Loan_Amount_Term', 'Credit_History', 'Loan_Status', 'LoanAmount_log',\n",
       "       'Gender_Female', 'Gender_Male', 'Married_No', 'Married_Yes',\n",
       "       'Dependents_3', 'Dependents_0', 'Dependents_1', 'Dependents_2',\n",
       "       'Education_Graduate', 'Education_Not Graduate', 'Self_Employed_No',\n",
       "       'Self_Employed_Yes', 'Property_Area_Rural', 'Property_Area_Semiurban',\n",
       "       'Property_Area_Urban'],\n",
       "      dtype='object')"
      ]
     },
     "execution_count": 54,
     "metadata": {},
     "output_type": "execute_result"
    }
   ],
   "source": [
    "train.columns"
   ]
  },
  {
   "cell_type": "code",
   "execution_count": 55,
   "metadata": {},
   "outputs": [
    {
     "data": {
      "text/plain": [
       "Index(['ApplicantIncome', 'CoapplicantIncome', 'LoanAmount',\n",
       "       'Loan_Amount_Term', 'Credit_History', 'LoanAmount_log', 'Gender_Female',\n",
       "       'Gender_Male', 'Married_No', 'Married_Yes', 'Dependents_3',\n",
       "       'Dependents_0', 'Dependents_1', 'Dependents_2', 'Education_Graduate',\n",
       "       'Education_Not Graduate', 'Self_Employed_No', 'Self_Employed_Yes',\n",
       "       'Property_Area_Rural', 'Property_Area_Semiurban',\n",
       "       'Property_Area_Urban'],\n",
       "      dtype='object')"
      ]
     },
     "execution_count": 55,
     "metadata": {},
     "output_type": "execute_result"
    }
   ],
   "source": [
    "test.columns"
   ]
  },
  {
   "cell_type": "code",
   "execution_count": 56,
   "metadata": {},
   "outputs": [
    {
     "data": {
      "text/plain": [
       "Index(['ApplicantIncome', 'CoapplicantIncome', 'LoanAmount',\n",
       "       'Loan_Amount_Term', 'Credit_History', 'LoanAmount_log', 'Gender_Female',\n",
       "       'Gender_Male', 'Married_No', 'Married_Yes', 'Dependents_3',\n",
       "       'Dependents_0', 'Dependents_1', 'Dependents_2', 'Education_Graduate',\n",
       "       'Education_Not Graduate', 'Self_Employed_No', 'Self_Employed_Yes',\n",
       "       'Property_Area_Rural', 'Property_Area_Semiurban',\n",
       "       'Property_Area_Urban'],\n",
       "      dtype='object')"
      ]
     },
     "execution_count": 56,
     "metadata": {},
     "output_type": "execute_result"
    }
   ],
   "source": [
    "X.columns"
   ]
  },
  {
   "cell_type": "markdown",
   "metadata": {},
   "source": [
    "Now we will train the model on training dataset and make predictions for the test dataset. But can we validate these predictions? One way of doing this is we can divide our train dataset into two parts: train and validation. We can train the model on this train part and using that make predictions for the validation part. In this way we can validate our predictions as we have the true predictions for the validation part (which we do not have for the test dataset).\n",
    "\n",
    "We will use the train_test_split function from sklearn to divide our train dataset. So, first let us import train_test_split."
   ]
  },
  {
   "cell_type": "code",
   "execution_count": 57,
   "metadata": {},
   "outputs": [],
   "source": [
    "from sklearn.model_selection import train_test_split"
   ]
  },
  {
   "cell_type": "code",
   "execution_count": 58,
   "metadata": {},
   "outputs": [],
   "source": [
    "X_train, x_cv, Y_train, y_cv = train_test_split(X, Y, test_size = 0.3)"
   ]
  },
  {
   "cell_type": "markdown",
   "metadata": {},
   "source": [
    "The dataset has been divided into training and validation part. Let us import LogisticRegression and accuracy_score from sklearn and fit the logistic regression model."
   ]
  },
  {
   "cell_type": "code",
   "execution_count": 59,
   "metadata": {},
   "outputs": [],
   "source": [
    "from sklearn.linear_model import LogisticRegression\n",
    "from sklearn.metrics import accuracy_score"
   ]
  },
  {
   "cell_type": "code",
   "execution_count": 60,
   "metadata": {},
   "outputs": [
    {
     "data": {
      "text/plain": [
       "LogisticRegression(C=1.0, class_weight=None, dual=False, fit_intercept=True,\n",
       "          intercept_scaling=1, max_iter=100, multi_class='warn',\n",
       "          n_jobs=None, penalty='l2', random_state=1, solver='warn',\n",
       "          tol=0.0001, verbose=0, warm_start=False)"
      ]
     },
     "execution_count": 60,
     "metadata": {},
     "output_type": "execute_result"
    }
   ],
   "source": [
    "model = LogisticRegression(random_state= 1)\n",
    "model.fit(X_train,Y_train)"
   ]
  },
  {
   "cell_type": "markdown",
   "metadata": {},
   "source": [
    "Here the C parameter represents inverse of regularization strength. Regularization is applying a penalty to increasing the magnitude of parameter values in order to reduce overfitting. Smaller values of C specify stronger regularization. To learn about other parameters, refer here: http://scikit-learn.org/stable/modules/generated/sklearn.linear_model.LogisticRegression.html\n",
    "\n",
    "Let’s predict the Loan_Status for validation set and calculate its accuracy."
   ]
  },
  {
   "cell_type": "code",
   "execution_count": 61,
   "metadata": {},
   "outputs": [],
   "source": [
    "pred_cv = model.predict(x_cv)"
   ]
  },
  {
   "cell_type": "markdown",
   "metadata": {},
   "source": [
    "Let us calculate how accurate our predictions are by calculating the accuracy."
   ]
  },
  {
   "cell_type": "code",
   "execution_count": 62,
   "metadata": {},
   "outputs": [
    {
     "data": {
      "text/plain": [
       "0.7783783783783784"
      ]
     },
     "execution_count": 62,
     "metadata": {},
     "output_type": "execute_result"
    }
   ],
   "source": [
    "accuracy_score(y_cv,pred_cv)"
   ]
  },
  {
   "cell_type": "markdown",
   "metadata": {},
   "source": [
    "So our predictions are almost 78% accurate, i.e. we have identified 78% of the loan status correctly.\n",
    "\n",
    "Let’s make predictions for the test dataset."
   ]
  },
  {
   "cell_type": "code",
   "execution_count": 63,
   "metadata": {},
   "outputs": [],
   "source": [
    "pred_test = model.predict(test)"
   ]
  },
  {
   "cell_type": "markdown",
   "metadata": {},
   "source": [
    "Lets import the submission file which we have to submit on the solution checker."
   ]
  },
  {
   "cell_type": "code",
   "execution_count": 64,
   "metadata": {},
   "outputs": [],
   "source": [
    "submission=pd.read_csv(\"Sample_Submission.csv\")"
   ]
  },
  {
   "cell_type": "markdown",
   "metadata": {},
   "source": [
    "We only need the Loan_ID and the corresponding Loan_Status for the final submission. we will fill these columns with the Loan_ID of test dataset and the predictions that we made, i.e., pred_test respectively."
   ]
  },
  {
   "cell_type": "code",
   "execution_count": 65,
   "metadata": {},
   "outputs": [],
   "source": [
    "submission['Loan_Status']=pred_test\n",
    "submission['Loan_ID']=test_original['Loan_ID']"
   ]
  },
  {
   "cell_type": "markdown",
   "metadata": {},
   "source": [
    "Remember we need predictions in Y and N. So let’s convert 1 and 0 to Y and N."
   ]
  },
  {
   "cell_type": "code",
   "execution_count": 66,
   "metadata": {},
   "outputs": [],
   "source": [
    "submission['Loan_Status'].replace(0, 'N',inplace=True)\n",
    "submission['Loan_Status'].replace(1, 'Y',inplace=True)"
   ]
  },
  {
   "cell_type": "markdown",
   "metadata": {},
   "source": [
    "Finally we will convert the submission to .csv format and make submission to check the accuracy on the leaderboard."
   ]
  },
  {
   "cell_type": "code",
   "execution_count": 67,
   "metadata": {},
   "outputs": [],
   "source": [
    "pd.DataFrame(submission, columns=['Loan_ID','Loan_Status']).to_csv('logistic.csv',index = False)"
   ]
  },
  {
   "cell_type": "markdown",
   "metadata": {},
   "source": [
    "From this submission we got an accuracy of 0.777 on the leaderboard.\n",
    "\n",
    "Instead of creating validation set, we can also make use of cross validation to validate our predictions. We will see this further."
   ]
  },
  {
   "cell_type": "markdown",
   "metadata": {},
   "source": [
    "# Logistic Regression using stratified k-folds cross validation"
   ]
  },
  {
   "cell_type": "markdown",
   "metadata": {},
   "source": [
    "To check how robust our model is to unseen data, we can use Validation. It is a technique which involves reserving a particular sample of a dataset on which you do not train the model. Later, you test your model on this sample before finalizing it. Some of the common methods for validation are listed below:\n",
    "\n",
    "* **The validation set approach**\n",
    "* **k-fold cross validation**\n",
    "* **Leave one out cross validation (LOOCV)**\n",
    "* **Stratified k-fold cross validation**"
   ]
  },
  {
   "cell_type": "markdown",
   "metadata": {},
   "source": [
    "Let's talk about stratified k-fold cross validation. Let us understand how it works:\n",
    "\n",
    "* **Stratification is the process of rearranging the data so as to ensure that each fold is a good representative of the whole.**\n",
    "* **For example, in a binary classification problem where each class comprises of 50% of the data, it is best to arrange the data such that in every fold, each class comprises of about half the instances.**\n",
    "* **It is generally a better approach when dealing with both bias and variance.**\n",
    "* **A randomly selected fold might not adequately represent the minor class, particularly in cases where there is a huge class imbalance.**"
   ]
  },
  {
   "cell_type": "markdown",
   "metadata": {},
   "source": [
    "Let’s import StratifiedKFold from sklearn and fit the model."
   ]
  },
  {
   "cell_type": "code",
   "execution_count": 68,
   "metadata": {},
   "outputs": [],
   "source": [
    "from sklearn.model_selection import StratifiedKFold"
   ]
  },
  {
   "cell_type": "markdown",
   "metadata": {},
   "source": [
    "Now let’s make a cross validation logistic model with stratified 5 folds and make predictions for test dataset."
   ]
  },
  {
   "cell_type": "code",
   "execution_count": 69,
   "metadata": {},
   "outputs": [
    {
     "name": "stdout",
     "output_type": "stream",
     "text": [
      "\n",
      "1 of kfold 5\n",
      "accuracy_score 0.7983870967741935\n",
      "\n",
      "2 of kfold 5\n",
      "accuracy_score 0.8306451612903226\n",
      "\n",
      "3 of kfold 5\n",
      "accuracy_score 0.8114754098360656\n",
      "\n",
      "4 of kfold 5\n",
      "accuracy_score 0.7950819672131147\n",
      "\n",
      "5 of kfold 5\n",
      "accuracy_score 0.8278688524590164\n"
     ]
    }
   ],
   "source": [
    "i = 1\n",
    "\n",
    "kf = StratifiedKFold(n_splits= 5, random_state= 1, shuffle= True)\n",
    "for train_index, test_index in kf.split(X,Y):\n",
    "    print('\\n{} of kfold {}'.format(i, kf.n_splits))\n",
    "    xtr, xvl = X.loc[train_index],X.loc[test_index]\n",
    "    ytr, yvl = Y.loc[train_index],Y.loc[test_index]\n",
    "    \n",
    "    model = LogisticRegression(random_state= 1)\n",
    "    model.fit(xtr, ytr)\n",
    "    pred_test = model.predict(xvl)\n",
    "    score = accuracy_score(yvl,pred_test)\n",
    "    print('accuracy_score', score)\n",
    "    i += 1\n",
    "pred_test_kfold = model.predict(test)\n",
    "pred_kfold = model.predict(xvl)"
   ]
  },
  {
   "cell_type": "code",
   "execution_count": 70,
   "metadata": {},
   "outputs": [
    {
     "data": {
      "text/plain": [
       "0.8442622950819673"
      ]
     },
     "execution_count": 70,
     "metadata": {},
     "output_type": "execute_result"
    }
   ],
   "source": [
    "# Mean\n",
    "pred_kfold.mean()"
   ]
  },
  {
   "cell_type": "markdown",
   "metadata": {},
   "source": [
    "The mean validation accuracy for this model turns out to be 0.84. Let us visualize the roc curve."
   ]
  },
  {
   "cell_type": "code",
   "execution_count": 72,
   "metadata": {},
   "outputs": [
    {
     "data": {
      "image/png": "[encoded data removed]",
      "text/plain": [
       "<Figure size 864x576 with 1 Axes>"
      ]
     },
     "metadata": {
      "needs_background": "light"
     },
     "output_type": "display_data"
    }
   ],
   "source": [
    "from sklearn import metrics\n",
    "fpr, tpr, _ = metrics.roc_curve(yvl,  pred_kfold)\n",
    "auc = metrics.roc_auc_score(yvl, pred_kfold)\n",
    "plt.figure(figsize=(12,8))\n",
    "plt.plot(fpr,tpr,label=\"validation, auc=\"+str(auc))\n",
    "plt.xlabel('False Positive Rate')\n",
    "plt.ylabel('True Positive Rate')\n",
    "plt.legend(loc=4)\n",
    "plt.show()"
   ]
  },
  {
   "cell_type": "markdown",
   "metadata": {},
   "source": [
    "We got an auc value of 0.73"
   ]
  },
  {
   "cell_type": "code",
   "execution_count": 73,
   "metadata": {},
   "outputs": [],
   "source": [
    "submission['Loan_Status']=pred_test_kfold\n",
    "submission['Loan_ID']=test_original['Loan_ID']"
   ]
  },
  {
   "cell_type": "markdown",
   "metadata": {},
   "source": [
    "Remember we need predictions in Y and N. So let’s convert 1 and 0 to Y and N."
   ]
  },
  {
   "cell_type": "code",
   "execution_count": 74,
   "metadata": {},
   "outputs": [],
   "source": [
    "submission['Loan_Status'].replace(0, 'N',inplace=True)\n",
    "submission['Loan_Status'].replace(1, 'Y',inplace=True)"
   ]
  },
  {
   "cell_type": "markdown",
   "metadata": {},
   "source": [
    "Lets convert the submission to .csv format and make submission to check the accuracy on the leaderboard."
   ]
  },
  {
   "cell_type": "code",
   "execution_count": 75,
   "metadata": {},
   "outputs": [],
   "source": [
    "pd.DataFrame(submission, columns=['Loan_ID','Loan_Status']).to_csv('LogisticKfold.csv', index = False)"
   ]
  },
  {
   "cell_type": "code",
   "execution_count": 76,
   "metadata": {},
   "outputs": [
    {
     "data": {
      "text/plain": [
       "0.8278688524590164"
      ]
     },
     "execution_count": 76,
     "metadata": {},
     "output_type": "execute_result"
    }
   ],
   "source": [
    "accuracy_score(yvl,pred_kfold)"
   ]
  },
  {
   "cell_type": "markdown",
   "metadata": {},
   "source": [
    "From this submission we got an accuracy of 0.8278 on the leaderboard. Now we will try to improve this accuracy using different approaches."
   ]
  },
  {
   "cell_type": "markdown",
   "metadata": {},
   "source": [
    "# Feature Engineering"
   ]
  },
  {
   "cell_type": "markdown",
   "metadata": {},
   "source": [
    "Based on the domain knowledge, we can come up with new features that might affect the target variable. We will create the following three new features:\n",
    "\n",
    "* **Total Income** - As discussed during bivariate analysis we will combine the Applicant Income and Coapplicant Income. If the total income is high, chances of loan approval might also be high.\n",
    "* **EMI** - EMI is the monthly amount to be paid by the applicant to repay the loan. Idea behind making this variable is that people who have high EMI’s might find it difficult to pay back the loan. We can calculate the EMI by taking the ratio of loan amount with respect to loan amount term.\n",
    "* **Balance Income** - This is the income left after the EMI has been paid. Idea behind creating this variable is that if this value is high, the chances are high that a person will repay the loan and hence increasing the chances of loan approval."
   ]
  },
  {
   "cell_type": "code",
   "execution_count": 77,
   "metadata": {},
   "outputs": [],
   "source": [
    "train['Total_Income'] = train['ApplicantIncome'] + train['CoapplicantIncome']\n",
    "test['Total_Income'] = test['ApplicantIncome'] + test['CoapplicantIncome']"
   ]
  },
  {
   "cell_type": "markdown",
   "metadata": {},
   "source": [
    "Let’s check the distribution of Total Income."
   ]
  },
  {
   "cell_type": "code",
   "execution_count": 78,
   "metadata": {},
   "outputs": [
    {
     "data": {
      "image/png": "[encoded data removed]",
      "text/plain": [
       "<Figure size 432x288 with 1 Axes>"
      ]
     },
     "metadata": {
      "needs_background": "light"
     },
     "output_type": "display_data"
    }
   ],
   "source": [
    "sns.distplot(train['Total_Income']);"
   ]
  },
  {
   "cell_type": "markdown",
   "metadata": {},
   "source": [
    "We can see it is shifted towards left, i.e., the distribution is right skewed. So, let’s take the log transformation to make the distribution normal."
   ]
  },
  {
   "cell_type": "code",
   "execution_count": 79,
   "metadata": {},
   "outputs": [
    {
     "data": {
      "image/png": "[encoded data removed]",
      "text/plain": [
       "<Figure size 432x288 with 1 Axes>"
      ]
     },
     "metadata": {
      "needs_background": "light"
     },
     "output_type": "display_data"
    }
   ],
   "source": [
    "train['Total_Income_log'] = np.log(train['Total_Income'])\n",
    "sns.distplot(train['Total_Income_log']);\n",
    "test['Total_Income_log'] = np.log(test['Total_Income'])"
   ]
  },
  {
   "cell_type": "markdown",
   "metadata": {},
   "source": [
    "Now the distribution looks much closer to normal and effect of extreme values has been significantly subsided. Let’s create the EMI feature now."
   ]
  },
  {
   "cell_type": "code",
   "execution_count": 80,
   "metadata": {},
   "outputs": [],
   "source": [
    "train['EMI'] = train['LoanAmount']/train['Loan_Amount_Term']\n",
    "test['EMI'] = test['LoanAmount'] / test['Loan_Amount_Term']"
   ]
  },
  {
   "cell_type": "code",
   "execution_count": 81,
   "metadata": {},
   "outputs": [
    {
     "data": {
      "image/png": "[encoded data removed]",
      "text/plain": [
       "<Figure size 432x288 with 1 Axes>"
      ]
     },
     "metadata": {
      "needs_background": "light"
     },
     "output_type": "display_data"
    }
   ],
   "source": [
    "sns.distplot(train['EMI']);"
   ]
  },
  {
   "cell_type": "markdown",
   "metadata": {},
   "source": [
    "Let us create Balance Income feature now and check its distribution."
   ]
  },
  {
   "cell_type": "code",
   "execution_count": 82,
   "metadata": {},
   "outputs": [],
   "source": [
    "train['Balance Income'] = train['Total_Income'] - (train['EMI']*1000) # Multiply with 1000 to make the units equal \n",
    "test['Balance Income'] = test['Total_Income'] - (test['EMI']* 1000)"
   ]
  },
  {
   "cell_type": "code",
   "execution_count": 83,
   "metadata": {},
   "outputs": [
    {
     "data": {
      "image/png": "[encoded data removed]",
      "text/plain": [
       "<Figure size 432x288 with 1 Axes>"
      ]
     },
     "metadata": {
      "needs_background": "light"
     },
     "output_type": "display_data"
    }
   ],
   "source": [
    "sns.distplot(train['Balance Income']);"
   ]
  },
  {
   "cell_type": "markdown",
   "metadata": {},
   "source": [
    "Let us now drop the variables which we used to create these new features. Reason for doing this is, the correlation between those old features and these new features will be very high and logistic regression assumes that the variables are not highly correlated. We also wants to remove the noise from the dataset, so removing correlated features will help in reducing the noise too."
   ]
  },
  {
   "cell_type": "code",
   "execution_count": 84,
   "metadata": {},
   "outputs": [],
   "source": [
    "train = train.drop(['ApplicantIncome','CoapplicantIncome','LoanAmount','Loan_Amount_Term'], axis = 1)\n",
    "test = test.drop(['ApplicantIncome','CoapplicantIncome','LoanAmount','Loan_Amount_Term'], axis = 1)"
   ]
  },
  {
   "cell_type": "code",
   "execution_count": 85,
   "metadata": {},
   "outputs": [
    {
     "data": {
      "text/plain": [
       "Index(['Credit_History', 'Loan_Status', 'LoanAmount_log', 'Gender_Female',\n",
       "       'Gender_Male', 'Married_No', 'Married_Yes', 'Dependents_3',\n",
       "       'Dependents_0', 'Dependents_1', 'Dependents_2', 'Education_Graduate',\n",
       "       'Education_Not Graduate', 'Self_Employed_No', 'Self_Employed_Yes',\n",
       "       'Property_Area_Rural', 'Property_Area_Semiurban', 'Property_Area_Urban',\n",
       "       'Total_Income', 'Total_Income_log', 'EMI', 'Balance Income'],\n",
       "      dtype='object')"
      ]
     },
     "execution_count": 85,
     "metadata": {},
     "output_type": "execute_result"
    }
   ],
   "source": [
    "train.columns"
   ]
  },
  {
   "cell_type": "markdown",
   "metadata": {},
   "source": [
    "# Model Building : Part II"
   ]
  },
  {
   "cell_type": "markdown",
   "metadata": {},
   "source": [
    "After creating new features, we can continue the model building process. So we will start with logistic regression model and then move over to more complex models like RandomForest and XGBoost.\n",
    "\n",
    "We will build the following models:\n",
    "\n",
    "* Logistic Regression\n",
    "* Decision Tree\n",
    "* Random Forest\n",
    "* XGBoost\n",
    "\n",
    "Let’s prepare the data for feeding into the models."
   ]
  },
  {
   "cell_type": "code",
   "execution_count": 86,
   "metadata": {},
   "outputs": [],
   "source": [
    "X = train.drop('Loan_Status',1)\n",
    "y = train.Loan_Status                # Save target variable in separate dataset"
   ]
  },
  {
   "cell_type": "markdown",
   "metadata": {},
   "source": [
    "## Logistic Regression"
   ]
  },
  {
   "cell_type": "code",
   "execution_count": 87,
   "metadata": {},
   "outputs": [
    {
     "name": "stdout",
     "output_type": "stream",
     "text": [
      "\n",
      "1 of kfold 5\n",
      "accuracy_score 0.8064516129032258\n",
      "\n",
      "2 of kfold 5\n",
      "accuracy_score 0.8225806451612904\n",
      "\n",
      "3 of kfold 5\n",
      "accuracy_score 0.7786885245901639\n",
      "\n",
      "4 of kfold 5\n",
      "accuracy_score 0.7868852459016393\n",
      "\n",
      "5 of kfold 5\n",
      "accuracy_score 0.819672131147541\n"
     ]
    }
   ],
   "source": [
    "i = 1\n",
    "kf = StratifiedKFold(n_splits= 5, random_state = 1, shuffle= True)\n",
    "for train_index, test_index in kf.split(X,y):\n",
    "    print('\\n{} of kfold {}'.format(i, kf.n_splits))\n",
    "    xtr,xvl = X.loc[train_index],X.loc[test_index]\n",
    "    ytr,yvl = y.loc[train_index],y.loc[test_index]\n",
    "    \n",
    "    model = LogisticRegression(random_state= 1)\n",
    "    model.fit(xtr, ytr)\n",
    "    pred_test = model.predict(xvl)\n",
    "    score = accuracy_score(yvl,pred_test)\n",
    "    print('accuracy_score',score)\n",
    "    i += 1\n",
    "\n",
    "pred_test_log = model.predict(test)\n",
    "pred_log = model.predict(xvl)"
   ]
  },
  {
   "cell_type": "code",
   "execution_count": 88,
   "metadata": {},
   "outputs": [
    {
     "data": {
      "text/plain": [
       "0.8664850136239782"
      ]
     },
     "execution_count": 88,
     "metadata": {},
     "output_type": "execute_result"
    }
   ],
   "source": [
    "pred_test_log.mean()"
   ]
  },
  {
   "cell_type": "markdown",
   "metadata": {},
   "source": [
    "The mean validation accuracy for this model is 0.866"
   ]
  },
  {
   "cell_type": "code",
   "execution_count": 89,
   "metadata": {},
   "outputs": [],
   "source": [
    "submission['Loan_Status']=pred_test_log            # filling Loan_Status with predictions\n",
    "submission['Loan_ID']=test_original['Loan_ID'] # filling Loan_ID with test Loan_ID"
   ]
  },
  {
   "cell_type": "code",
   "execution_count": 90,
   "metadata": {},
   "outputs": [],
   "source": [
    "# replacing 0 and 1 with N and Y\n",
    "submission['Loan_Status'].replace(0, 'N',inplace=True)\n",
    "submission['Loan_Status'].replace(1, 'Y',inplace=True)"
   ]
  },
  {
   "cell_type": "code",
   "execution_count": 91,
   "metadata": {},
   "outputs": [],
   "source": [
    "# Converting submission file to .csv format\n",
    "pd.DataFrame(submission, columns=['Loan_ID','Loan_Status']).to_csv('Log2.csv',index = False)"
   ]
  },
  {
   "cell_type": "markdown",
   "metadata": {},
   "source": [
    "From this submission we got an accuracy of 0.76 on the leaderboard. So we can infer feature engineering has not improved the model. Let us look at some other algorithms."
   ]
  },
  {
   "cell_type": "markdown",
   "metadata": {},
   "source": [
    "## Decision Tree"
   ]
  },
  {
   "cell_type": "markdown",
   "metadata": {},
   "source": [
    "Decision tree is a type of supervised learning algorithm(having a pre-defined target variable) that is mostly used in classification problems. In this technique, we split the population or sample into two or more homogeneous sets(or sub-populations) based on most significant splitter / differentiator in input variables.\n",
    "\n",
    "Decision trees use multiple algorithms to decide to split a node in two or more sub-nodes. The creation of sub-nodes increases the homogeneity of resultant sub-nodes. In other words, we can say that purity of the node increases with respect to the target variable."
   ]
  },
  {
   "cell_type": "code",
   "execution_count": 92,
   "metadata": {},
   "outputs": [],
   "source": [
    "from sklearn import tree"
   ]
  },
  {
   "cell_type": "markdown",
   "metadata": {},
   "source": [
    "Let’s fit the decision tree model with 5 folds of cross validation."
   ]
  },
  {
   "cell_type": "code",
   "execution_count": 93,
   "metadata": {},
   "outputs": [
    {
     "name": "stdout",
     "output_type": "stream",
     "text": [
      "\n",
      "1 of kfold 5\n",
      "accuracy_score 0.7258064516129032\n",
      "\n",
      "2 of kfold 5\n",
      "accuracy_score 0.7419354838709677\n",
      "\n",
      "3 of kfold 5\n",
      "accuracy_score 0.7049180327868853\n",
      "\n",
      "4 of kfold 5\n",
      "accuracy_score 0.680327868852459\n",
      "\n",
      "5 of kfold 5\n",
      "accuracy_score 0.7049180327868853\n"
     ]
    }
   ],
   "source": [
    "i = 1\n",
    "kf = StratifiedKFold(n_splits= 5, random_state = 1, shuffle= True)\n",
    "for train_index, test_index in kf.split(X,y):\n",
    "    print('\\n{} of kfold {}'.format(i, kf.n_splits))\n",
    "    xtr,xvl = X.loc[train_index],X.loc[test_index]\n",
    "    ytr,yvl = y.loc[train_index],y.loc[test_index]\n",
    "    \n",
    "    model = tree.DecisionTreeClassifier(random_state= 1)\n",
    "    model.fit(xtr, ytr)\n",
    "    pred_test = model.predict(xvl)\n",
    "    score = accuracy_score(yvl,pred_test)\n",
    "    print('accuracy_score',score)\n",
    "    i += 1\n",
    "\n",
    "pred_test_tree = model.predict(test)\n",
    "pred_tree = model.predict(xvl)"
   ]
  },
  {
   "cell_type": "code",
   "execution_count": 94,
   "metadata": {},
   "outputs": [
    {
     "data": {
      "text/plain": [
       "0.6730245231607629"
      ]
     },
     "execution_count": 94,
     "metadata": {},
     "output_type": "execute_result"
    }
   ],
   "source": [
    "pred_test_tree.mean()"
   ]
  },
  {
   "cell_type": "markdown",
   "metadata": {},
   "source": [
    "The mean validation accuracy for this model is 0.67"
   ]
  },
  {
   "cell_type": "code",
   "execution_count": 95,
   "metadata": {},
   "outputs": [],
   "source": [
    "submission['Loan_Status']=pred_test_tree            # filling Loan_Status with predictions\n",
    "submission['Loan_ID']=test_original['Loan_ID'] # filling Loan_ID with test Loan_ID"
   ]
  },
  {
   "cell_type": "code",
   "execution_count": 96,
   "metadata": {},
   "outputs": [],
   "source": [
    "# replacing 0 and 1 with N and Y\n",
    "submission['Loan_Status'].replace(0, 'N',inplace=True)\n",
    "submission['Loan_Status'].replace(1, 'Y',inplace=True)"
   ]
  },
  {
   "cell_type": "code",
   "execution_count": 97,
   "metadata": {},
   "outputs": [],
   "source": [
    "# Converting submission file to .csv format\n",
    "pd.DataFrame(submission, columns=['Loan_ID','Loan_Status']).to_csv('Decision Tree.csv',index = False)"
   ]
  },
  {
   "cell_type": "markdown",
   "metadata": {},
   "source": [
    "From this submission we got an accuracy of 0.6458 on the leaderboard"
   ]
  },
  {
   "cell_type": "markdown",
   "metadata": {},
   "source": [
    "## Random Forest"
   ]
  },
  {
   "cell_type": "markdown",
   "metadata": {},
   "source": [
    "* **RandomForest is a tree based bootstrapping algorithm wherein a certain no. of weak learners (decision trees) are combined to make a powerful prediction model.**\n",
    "* **For every individual learner, a random sample of rows and a few randomly chosen variables are used to build a decision tree model.**\n",
    "* **Final prediction can be a function of all the predictions made by the individual learners.**\n",
    "* **In case of regression problem, the final prediction can be mean of all the predictions.**"
   ]
  },
  {
   "cell_type": "code",
   "execution_count": 98,
   "metadata": {},
   "outputs": [],
   "source": [
    "from sklearn.ensemble import RandomForestClassifier"
   ]
  },
  {
   "cell_type": "code",
   "execution_count": 99,
   "metadata": {},
   "outputs": [
    {
     "name": "stdout",
     "output_type": "stream",
     "text": [
      "\n",
      "1 of kfold 5\n",
      "accuracy_score 0.8225806451612904\n",
      "\n",
      "2 of kfold 5\n",
      "accuracy_score 0.8145161290322581\n",
      "\n",
      "3 of kfold 5\n",
      "accuracy_score 0.7377049180327869\n",
      "\n",
      "4 of kfold 5\n",
      "accuracy_score 0.7295081967213115\n",
      "\n",
      "5 of kfold 5\n",
      "accuracy_score 0.8114754098360656\n"
     ]
    }
   ],
   "source": [
    "i = 1\n",
    "kf = StratifiedKFold(n_splits= 5, random_state = 1, shuffle= True)\n",
    "for train_index, test_index in kf.split(X,y):\n",
    "    print('\\n{} of kfold {}'.format(i, kf.n_splits))\n",
    "    xtr,xvl = X.loc[train_index],X.loc[test_index]\n",
    "    ytr,yvl = y.loc[train_index],y.loc[test_index]\n",
    "    \n",
    "    model = RandomForestClassifier(random_state= 1,max_depth= 10)\n",
    "    model.fit(xtr, ytr)\n",
    "    pred_test = model.predict(xvl)\n",
    "    score = accuracy_score(yvl,pred_test)\n",
    "    print('accuracy_score',score)\n",
    "    i += 1\n",
    "\n",
    "pred_test_random = model.predict(test)\n",
    "pred_random = model.predict(xvl)"
   ]
  },
  {
   "cell_type": "code",
   "execution_count": 100,
   "metadata": {},
   "outputs": [
    {
     "data": {
      "text/plain": [
       "0.776566757493188"
      ]
     },
     "execution_count": 100,
     "metadata": {},
     "output_type": "execute_result"
    }
   ],
   "source": [
    "pred_test_random.mean()"
   ]
  },
  {
   "cell_type": "markdown",
   "metadata": {},
   "source": [
    "The mean validation accuracy for this model is 0.77\n",
    "\n",
    "We will try to improve the accuracy by tuning the hyperparameters for this model. We will use grid search to get the optimized values of hyper parameters. Grid-search is a way to select the best of a family of hyper parameters, parametrized by a grid of parameters.\n",
    "\n",
    "We will tune the max_depth and n_estimators parameters. max_depth decides the maximum depth of the tree and n_estimators decides the number of trees that will be used in random forest model."
   ]
  },
  {
   "cell_type": "code",
   "execution_count": 101,
   "metadata": {},
   "outputs": [],
   "source": [
    "from sklearn.model_selection import GridSearchCV"
   ]
  },
  {
   "cell_type": "code",
   "execution_count": 102,
   "metadata": {},
   "outputs": [],
   "source": [
    "# Provide range for max_depth from 1 to 20 with an interval of 2 and from 1 to 200 with an interval of 20 for n_estimators\n",
    "paramgrid = {'max_depth': list(range(1, 20, 2)), 'n_estimators': list(range(1, 200, 20))}"
   ]
  },
  {
   "cell_type": "code",
   "execution_count": 103,
   "metadata": {},
   "outputs": [],
   "source": [
    "grid_search=GridSearchCV(RandomForestClassifier(random_state=1),paramgrid)"
   ]
  },
  {
   "cell_type": "code",
   "execution_count": 104,
   "metadata": {},
   "outputs": [],
   "source": [
    "from sklearn.model_selection import train_test_split\n",
    "x_train, x_cv, y_train, y_cv = train_test_split(X,y, test_size =0.3, random_state=1)"
   ]
  },
  {
   "cell_type": "code",
   "execution_count": 105,
   "metadata": {},
   "outputs": [
    {
     "name": "stderr",
     "output_type": "stream",
     "text": [
      "C:\\Users\\CWILLIAN\\AppData\\Local\\Continuum\\anaconda3\\lib\\site-packages\\sklearn\\model_selection\\_search.py:841: DeprecationWarning: The default of the `iid` parameter will change from True to False in version 0.22 and will be removed in 0.24. This will change numeric results when test-set sizes are unequal.\n",
      "  DeprecationWarning)\n"
     ]
    },
    {
     "data": {
      "text/plain": [
       "GridSearchCV(cv='warn', error_score='raise-deprecating',\n",
       "       estimator=RandomForestClassifier(bootstrap=True, class_weight=None, criterion='gini',\n",
       "            max_depth=None, max_features='auto', max_leaf_nodes=None,\n",
       "            min_impurity_decrease=0.0, min_impurity_split=None,\n",
       "            min_samples_leaf=1, min_samples_split=2,\n",
       "            min_weight_fraction_leaf=0.0, n_estimators='warn', n_jobs=None,\n",
       "            oob_score=False, random_state=1, verbose=0, warm_start=False),\n",
       "       fit_params=None, iid='warn', n_jobs=None,\n",
       "       param_grid={'max_depth': [1, 3, 5, 7, 9, 11, 13, 15, 17, 19], 'n_estimators': [1, 21, 41, 61, 81, 101, 121, 141, 161, 181]},\n",
       "       pre_dispatch='2*n_jobs', refit=True, return_train_score='warn',\n",
       "       scoring=None, verbose=0)"
      ]
     },
     "execution_count": 105,
     "metadata": {},
     "output_type": "execute_result"
    }
   ],
   "source": [
    "# Fit the grid search model\n",
    "grid_search.fit(x_train,y_train)"
   ]
  },
  {
   "cell_type": "code",
   "execution_count": 106,
   "metadata": {},
   "outputs": [
    {
     "data": {
      "text/plain": [
       "RandomForestClassifier(bootstrap=True, class_weight=None, criterion='gini',\n",
       "            max_depth=3, max_features='auto', max_leaf_nodes=None,\n",
       "            min_impurity_decrease=0.0, min_impurity_split=None,\n",
       "            min_samples_leaf=1, min_samples_split=2,\n",
       "            min_weight_fraction_leaf=0.0, n_estimators=141, n_jobs=None,\n",
       "            oob_score=False, random_state=1, verbose=0, warm_start=False)"
      ]
     },
     "execution_count": 106,
     "metadata": {},
     "output_type": "execute_result"
    }
   ],
   "source": [
    "# Estimating the optimized value\n",
    "grid_search.best_estimator_"
   ]
  },
  {
   "cell_type": "markdown",
   "metadata": {},
   "source": [
    "So, the optimized value for the max_depth variable is 3 and for n_estimator is 141. Now let’s build the model using these optimized values."
   ]
  },
  {
   "cell_type": "code",
   "execution_count": 107,
   "metadata": {},
   "outputs": [
    {
     "name": "stdout",
     "output_type": "stream",
     "text": [
      "\n",
      "1 of kfold 5\n",
      "accuracy_score 0.8064516129032258\n",
      "\n",
      "2 of kfold 5\n",
      "accuracy_score 0.8306451612903226\n",
      "\n",
      "3 of kfold 5\n",
      "accuracy_score 0.8032786885245902\n",
      "\n",
      "4 of kfold 5\n",
      "accuracy_score 0.7950819672131147\n",
      "\n",
      "5 of kfold 5\n",
      "accuracy_score 0.8278688524590164\n"
     ]
    }
   ],
   "source": [
    "i=1\n",
    "kf = StratifiedKFold(n_splits=5,random_state=1,shuffle=True)\n",
    "for train_index,test_index in kf.split(X,y):\n",
    "     print('\\n{} of kfold {}'.format(i,kf.n_splits))\n",
    "     xtr,xvl = X.loc[train_index],X.loc[test_index]\n",
    "     ytr,yvl = y[train_index],y[test_index]\n",
    "    \n",
    "     model = RandomForestClassifier(random_state=1, max_depth=3, n_estimators=141)\n",
    "     model.fit(xtr, ytr)\n",
    "     pred_test = model.predict(xvl)\n",
    "     score = accuracy_score(yvl,pred_test)\n",
    "     print('accuracy_score',score)\n",
    "     i+=1\n",
    "pred_test_randomforest = model.predict(test)\n",
    "pred_randomforest=model.predict_proba(test)[:,1]"
   ]
  },
  {
   "cell_type": "code",
   "execution_count": 108,
   "metadata": {},
   "outputs": [
    {
     "data": {
      "text/plain": [
       "0.8283378746594006"
      ]
     },
     "execution_count": 108,
     "metadata": {},
     "output_type": "execute_result"
    }
   ],
   "source": [
    "pred_test_randomforest.mean()"
   ]
  },
  {
   "cell_type": "code",
   "execution_count": 109,
   "metadata": {},
   "outputs": [],
   "source": [
    "submission['Loan_Status']=pred_test_randomforest            # filling Loan_Status with predictions\n",
    "submission['Loan_ID']=test_original['Loan_ID'] # filling Loan_ID with test Loan_ID\n",
    "# replacing 0 and 1 with N and Y\n",
    "submission['Loan_Status'].replace(0, 'N',inplace=True)\n",
    "submission['Loan_Status'].replace(1, 'Y',inplace=True)\n",
    "# Converting submission file to .csv format\n",
    "pd.DataFrame(submission, columns=['Loan_ID','Loan_Status']).to_csv('Random Forest.csv',index = False)"
   ]
  },
  {
   "cell_type": "markdown",
   "metadata": {},
   "source": [
    "From this submission we got an accuracy of 0.7638 on the leaderboard"
   ]
  },
  {
   "cell_type": "markdown",
   "metadata": {},
   "source": [
    "Let us find the feature importance now, i.e. which features are most important for this problem. We will use feature_importances_ attribute of sklearn to do so."
   ]
  },
  {
   "cell_type": "code",
   "execution_count": 110,
   "metadata": {},
   "outputs": [
    {
     "data": {
      "image/png": "[encoded data removed]",
      "text/plain": [
       "<Figure size 864x576 with 1 Axes>"
      ]
     },
     "metadata": {
      "needs_background": "light"
     },
     "output_type": "display_data"
    }
   ],
   "source": [
    "importances = pd.Series(model.feature_importances_, index = X.columns)\n",
    "importances.plot(kind = 'barh',figsize = (12,8));"
   ]
  },
  {
   "cell_type": "markdown",
   "metadata": {},
   "source": [
    "We can see that Credit_History is the most important feature followed by Balance Income, Total Income, EMI. So, feature engineering helped us in predicting our target variable."
   ]
  },
  {
   "cell_type": "markdown",
   "metadata": {},
   "source": [
    "# XGboost"
   ]
  },
  {
   "cell_type": "markdown",
   "metadata": {},
   "source": [
    "XGBoost is a fast and efficient algorithm and has been used to by the winners of many data science competitions.\n",
    "XGBoost works only with numeric variables and we have already replaced the categorical variables with numeric variables. Let’s have a look at the parameters that we are going to use in our model.\n",
    "\n",
    "* **n_estimator: This specifies the number of trees for the model.**\n",
    "* **max_depth: We can specify maximum depth of a tree using this parameter**."
   ]
  },
  {
   "cell_type": "code",
   "execution_count": 111,
   "metadata": {},
   "outputs": [],
   "source": [
    "from xgboost.sklearn import XGBClassifier"
   ]
  },
  {
   "cell_type": "code",
   "execution_count": 142,
   "metadata": {},
   "outputs": [
    {
     "name": "stdout",
     "output_type": "stream",
     "text": [
      "\n",
      "1 of kfold 5\n",
      "accuracy_score 0.7903225806451613\n",
      "\n",
      "2 of kfold 5\n",
      "accuracy_score 0.8306451612903226\n",
      "\n",
      "3 of kfold 5\n",
      "accuracy_score 0.7622950819672131\n",
      "\n",
      "4 of kfold 5\n",
      "accuracy_score 0.7868852459016393\n",
      "\n",
      "5 of kfold 5\n",
      "accuracy_score 0.8278688524590164\n"
     ]
    }
   ],
   "source": [
    "i=1\n",
    "kf = StratifiedKFold(n_splits=5,random_state=1,shuffle=True)\n",
    "for train_index,test_index in kf.split(X,y):\n",
    "     print('\\n{} of kfold {}'.format(i,kf.n_splits))\n",
    "     xtr,xvl = X.loc[train_index],X.loc[test_index]\n",
    "     ytr,yvl = y[train_index],y[test_index]\n",
    "    \n",
    "     model = XGBClassifier(n_estimators=10, max_depth=4)\n",
    "     model.fit(xtr, ytr)\n",
    "     pred_test = model.predict(xvl)\n",
    "     score = accuracy_score(yvl,pred_test)\n",
    "     print('accuracy_score',score)\n",
    "     i+=1\n",
    "pred_test_xgboost = model.predict(test)\n",
    "pred_xgboost=model.predict_proba(test)[:,1]"
   ]
  },
  {
   "cell_type": "code",
   "execution_count": 143,
   "metadata": {},
   "outputs": [
    {
     "data": {
      "text/plain": [
       "0.8555858310626703"
      ]
     },
     "execution_count": 143,
     "metadata": {},
     "output_type": "execute_result"
    }
   ],
   "source": [
    "pred_test_xgboost.mean()"
   ]
  },
  {
   "cell_type": "markdown",
   "metadata": {},
   "source": [
    "The mean validation accuracy for this model is 0.85."
   ]
  },
  {
   "cell_type": "code",
   "execution_count": 144,
   "metadata": {},
   "outputs": [],
   "source": [
    "submission['Loan_Status']=pred_test_xgboost\n",
    "submission['Loan_ID']=test_original['Loan_ID']\n",
    "submission['Loan_Status'].replace(0, 'N',inplace=True)\n",
    "submission['Loan_Status'].replace(1, 'Y',inplace=True)\n",
    "pd.DataFrame(submission, columns=['Loan_ID','Loan_Status']).to_csv('XGBoost.csv',index = False)"
   ]
  },
  {
   "cell_type": "markdown",
   "metadata": {},
   "source": [
    "# What more can be tried?"
   ]
  },
  {
   "cell_type": "markdown",
   "metadata": {},
   "source": [
    "There are still quite a many things that can be tried to improve our models’ predictions. We create and add more variables, try different models with different subset of features and/or rows, etc. Some of the ideas are listed below:\n",
    "\n",
    "We can train the XGBoost model using grid search to optimize its hyperparameters and improve the accuracy.\n",
    "We can combine the applicants with 1,2,3 or more dependents and make a new feature as discussed in the EDA part.\n",
    "We can also make independent vs independent variable visualizations to discover some more patterns.\n",
    "We can also arrive at the EMI using a better formula which may include interest rates as well.\n",
    "We can even try ensemble modeling (combination of different models)."
   ]
  },
  {
   "cell_type": "code",
   "execution_count": null,
   "metadata": {},
   "outputs": [],
   "source": []
  }
 ],
 "metadata": {
  "kernelspec": {
   "display_name": "Python 3",
   "language": "python",
   "name": "python3"
  },
  "language_info": {
   "codemirror_mode": {
    "name": "ipython",
    "version": 3
   },
   "file_extension": ".py",
   "mimetype": "text/x-python",
   "name": "python",
   "nbconvert_exporter": "python",
   "pygments_lexer": "ipython3",
   "version": "3.6.5"
  }
 },
 "nbformat": 4,
 "nbformat_minor": 2
}
